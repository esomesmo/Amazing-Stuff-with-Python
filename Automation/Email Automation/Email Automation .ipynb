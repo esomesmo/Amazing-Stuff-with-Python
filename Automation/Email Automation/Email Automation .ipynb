{
 "cells": [
  {
   "cell_type": "markdown",
   "metadata": {},
   "source": [
    "# 1. Importing csv"
   ]
  },
  {
   "cell_type": "code",
   "execution_count": 1,
   "metadata": {},
   "outputs": [
    {
     "data": {
      "text/html": [
       "<div>\n",
       "<style scoped>\n",
       "    .dataframe tbody tr th:only-of-type {\n",
       "        vertical-align: middle;\n",
       "    }\n",
       "\n",
       "    .dataframe tbody tr th {\n",
       "        vertical-align: top;\n",
       "    }\n",
       "\n",
       "    .dataframe thead th {\n",
       "        text-align: right;\n",
       "    }\n",
       "</style>\n",
       "<table border=\"1\" class=\"dataframe\">\n",
       "  <thead>\n",
       "    <tr style=\"text-align: right;\">\n",
       "      <th></th>\n",
       "      <th>Name</th>\n",
       "      <th>Email</th>\n",
       "      <th>Branch</th>\n",
       "      <th>Year</th>\n",
       "    </tr>\n",
       "  </thead>\n",
       "  <tbody>\n",
       "    <tr>\n",
       "      <th>0</th>\n",
       "      <td>Sangram Dash</td>\n",
       "      <td>b521050@iiit-bh.ac.in</td>\n",
       "      <td>CE</td>\n",
       "      <td>1st</td>\n",
       "    </tr>\n",
       "    <tr>\n",
       "      <th>1</th>\n",
       "      <td>Riddhi Agrawal</td>\n",
       "      <td>b121043@iiit-bh.ac.in</td>\n",
       "      <td>CSE</td>\n",
       "      <td>1st</td>\n",
       "    </tr>\n",
       "    <tr>\n",
       "      <th>2</th>\n",
       "      <td>Akankshya Nayak</td>\n",
       "      <td>b121005@iiit-bh.ac.in</td>\n",
       "      <td>CSE</td>\n",
       "      <td>1st</td>\n",
       "    </tr>\n",
       "    <tr>\n",
       "      <th>3</th>\n",
       "      <td>Ananya Mishra</td>\n",
       "      <td>b221010@iiit-bh.ac.in</td>\n",
       "      <td>ETC</td>\n",
       "      <td>1st</td>\n",
       "    </tr>\n",
       "    <tr>\n",
       "      <th>4</th>\n",
       "      <td>Ankit Saha</td>\n",
       "      <td>b421007@iiit-bh.ac.in</td>\n",
       "      <td>IT</td>\n",
       "      <td>1st</td>\n",
       "    </tr>\n",
       "  </tbody>\n",
       "</table>\n",
       "</div>"
      ],
      "text/plain": [
       "              Name                  Email Branch Year\n",
       "0     Sangram Dash  b521050@iiit-bh.ac.in     CE  1st\n",
       "1   Riddhi Agrawal  b121043@iiit-bh.ac.in    CSE  1st\n",
       "2  Akankshya Nayak  b121005@iiit-bh.ac.in    CSE  1st\n",
       "3   Ananya Mishra   b221010@iiit-bh.ac.in    ETC  1st\n",
       "4       Ankit Saha  b421007@iiit-bh.ac.in     IT  1st"
      ]
     },
     "execution_count": 1,
     "metadata": {},
     "output_type": "execute_result"
    }
   ],
   "source": [
    "import pandas as pd\n",
    "a=pd.read_csv(r\"C:\\Users\\Harshit Singh\\Downloads\\Email Automation Testing - Sheet1.csv\")\n",
    "a.head()"
   ]
  },
  {
   "cell_type": "code",
   "execution_count": 2,
   "metadata": {},
   "outputs": [
    {
     "data": {
      "text/plain": [
       "(37, 4)"
      ]
     },
     "execution_count": 2,
     "metadata": {},
     "output_type": "execute_result"
    }
   ],
   "source": [
    "a.shape"
   ]
  },
  {
   "cell_type": "markdown",
   "metadata": {},
   "source": [
    "# 2. Looping and checking"
   ]
  },
  {
   "cell_type": "code",
   "execution_count": 7,
   "metadata": {},
   "outputs": [
    {
     "name": "stdout",
     "output_type": "stream",
     "text": [
      "('b121010@iiit-bh CSE', 'Axa Gemini Lakra', nan, '1st', 9)\n",
      "('b121031@iiit-bh CSE', 'Naisargika Subudhi', nan, '1st', 10)\n",
      "('b121056@iiit-bh CSE', 'Shruti Swarupa Dhar', nan, '1st', 11)\n",
      "('b121044@iiit-bh CSE', 'Rituparna Senapati', nan, '1st', 12)\n",
      "('b421012@iiit-bh.ac.in', 'Ashutosh Panda', 'IT', '1st', 13)\n",
      "('b221014@iiit-bh.ac.in', 'Asmita Ghosh', 'ETC', '1ST', 14)\n",
      "('b221021@iiit-bh', 'Deepak', 'ETC', '1st', 15)\n",
      "('b221008@iiit-bh', 'Akanshu Aich', 'ETC', '1st', 16)\n",
      "('b521062@iiit-bh.ac.in', 'Swapneel Das', 'CE', '1st', 17)\n",
      "('b421058@iiit-bh', 'Sushobhan Tripathy', 'IT', '1st', 18)\n",
      "('b421054@iiit-bh', 'Subhajit Chatterjee', 'IT', '1st', 19)\n",
      "('b421061@iiit-bh.ac.in', 'Swastik Pradhan', 'IT', '1st', 20)\n",
      "('b421042@iiit-bh.ac.in', 'Ritish R Ratan', nan, '1st', 21)\n",
      "('b421011@iiit-bh.ac.in', 'Ashish upadhyay', 'IT', '1st', 22)\n",
      "('b121038@iiit-bh.ac.in', 'Pratyush Dehury', ' CSE', '1st', 23)\n",
      "('b521020@iiit-bh.ac.in', 'Durbadala Padhan', 'CE', '1st', 24)\n",
      "('b521027@iiit-bh.ac.in', 'Jayadip Sahoo', 'CE', '1st', 25)\n",
      "('b521002@iiit-bh.ac.in', 'Abhikalp Srivastava', 'CE', '1st', 26)\n",
      "('b121017@iiit-bh.ac.in', 'Eugene Cosmas Tirkey', 'CSE', '1st', 27)\n",
      "('b121024@iiit-bh.ac.in', 'K. Raja Nayak', 'CSE', '1st', 28)\n",
      "('b221029@iiit-bh.ac.in', 'Kaniskaa Behera', 'ETC', '1st', 29)\n",
      "('b121054@iiit-bh.ac.in', 'Shivakshi Singh', 'CSE', '1st', 30)\n",
      "('b221006@iiit-bh.ac.in', 'Aditi Pandey', 'ETC', '1st', 31)\n",
      "('b221020@iiit-bh.in', 'Debasmita Malik', 'ETC', '1st', 32)\n",
      "('b221035@iiit-bh.ac.in', 'Madhav Khandelwal', 'ETC', '1st', 33)\n",
      "('b521039@iiit-bh.ac.in', 'Nitin Chandra Sahu', 'CE', '1st', 34)\n",
      "('b521031@iiit_bh.ac.in', 'Lakshmi Prasanna Jami', 'CE', '1st', 35)\n",
      "('b521048@iiit-bh.ac.in', 'Resham Hansdah', 'CE', '1st', 36)\n",
      "('b521010@iiit-bh.ac.in', 'Aman Modi', 'CE', '1st', 37)\n"
     ]
    }
   ],
   "source": [
    "for i in range(8, len(a)):\n",
    "    print((a.iloc[i][1],a.iloc[i][0], a.iloc[i][2], a.iloc[i][3], i+1)) #Just check it is in format (receiver_email,reciever_name,number of certificate)"
   ]
  },
  {
   "cell_type": "markdown",
   "metadata": {},
   "source": [
    "# 3. SENDING EMAILS"
   ]
  },
  {
   "cell_type": "markdown",
   "metadata": {},
   "source": [
    "Now to send the mails we use smtplib library.   \n",
    "The Simple Mail Transfer Protocol is an internet standard communication protocol for electronic mail transmission. Mail servers and other message transfer agents use SMTP to send and receive mail messages."
   ]
  },
  {
   "cell_type": "code",
   "execution_count": 8,
   "metadata": {},
   "outputs": [],
   "source": [
    "def assignment(rm,name, branch, year, no):\n",
    "    import email, smtplib,ssl\n",
    "    # SSL (Secure Sockets Layer) is a protocol for establishing secure links between networked computers.\n",
    "    # Its current iteration is called TLS.\n",
    "    \n",
    "    from email.mime.text import MIMEText\n",
    "    from email.mime.multipart import MIMEMultipart\n",
    "    from email.mime.base import MIMEBase\n",
    "    from email import encoders\n",
    "    from email.header import Header\n",
    "    from email.utils import formataddr\n",
    "    \n",
    "    port = 465  # For SSL For starttls, to establish a port for SMTP to operate using SSL.\n",
    "    # SSL is commonly used for encrypting communications over the internet.\n",
    "    \n",
    "    smtp_server = \"smtp.gmail.com\"\n",
    "    sender_email = \"harman.s2021@gmail.com\"\n",
    "    password = \"nrbqqmbalyxkjhay\"\n",
    "    receiver_email = rm\n",
    "    message = MIMEMultipart(\"alternative\") # used when we have attachments or want to provide alternative\n",
    "    # versions of the same content (e.g. a plain text/HTML version). We have a simple text file.\n",
    "    message[\"Subject\"] = \"Welcome to the International College :)\"\n",
    "    message[\"From\"] = formataddr((str(Header('IIIT BH', 'utf-8')), sender_email))\n",
    "    message[\"To\"] = receiver_email\n",
    "    context = ssl.create_default_context() # Create a secure SSL context\n",
    "   \n",
    "    #Email body\n",
    "    html = \"\"\"\\\n",
    "    <html>\n",
    "      <body>\n",
    "      <p>IIIT-BH<br>\n",
    "        Odisha, India<br><br>\n",
    "\n",
    "        <a href=\"https://www.iiit-bh.ac.in/\">IIIT Bhubaneswar</a></p>\n",
    "        <p>Dear {0},<br>\n",
    "           {1},<br>\n",
    "           {2} Year<br><br>\n",
    "            Thank you for coming in the Machine Learning Session.<br><br>\n",
    "            Here find a attached <b>gift</b> for you.<br><br>\n",
    "            \n",
    "            Regards,<br>\n",
    "            ML Team\n",
    "            PSoc X GDSC\n",
    "        </p>\n",
    "      </body>\n",
    "    </html>\n",
    "    \"\"\".format(name, branch, year)\n",
    "\n",
    "    part = MIMEText(html, \"html\")\n",
    "\n",
    "    # ATTACHMENTS\n",
    "    \n",
    "    message.attach(part)\n",
    "    \n",
    "    #CERTIFICATE ADDRESS\n",
    "#     pdfname = r'B120026_RDBMS_Lab_{}.docx'.format(no) #CHANGE THIS FOR LOCATION\n",
    "#     binary_pdf = open(pdfname, 'rb')\n",
    "#     payload = MIMEBase('application', 'octate-stream', Name='{0}_RDBMS_{1}.docx'.format(name,no)) #CHANGE THIS FOR NAME\n",
    "#     payload.set_payload((binary_pdf).read())\n",
    "#     encoders.encode_base64(payload)\n",
    "#     payload.add_header('Content-Decomposition', 'attachment', filename=pdfname)\n",
    "#     message.attach(payload) #COMMENT LINE THIS IF NOT NEEDED\n",
    "\n",
    "    server = smtplib.SMTP_SSL(smtp_server, port)\n",
    "    server.ehlo()\n",
    "    print(server.login(sender_email, password))\n",
    "    return(server.sendmail(sender_email,receiver_email,message.as_string()))"
   ]
  },
  {
   "cell_type": "markdown",
   "metadata": {},
   "source": [
    "# 4. TEST EMAIL"
   ]
  },
  {
   "cell_type": "code",
   "execution_count": 5,
   "metadata": {},
   "outputs": [],
   "source": [
    "# assignment(\"harman.s2021@gmail.com\", \"Harshit Singh\", \"CSE\", \"2nd\", 3)"
   ]
  },
  {
   "cell_type": "markdown",
   "metadata": {},
   "source": [
    "# 5. RUN THE CELL BELOW TO START SENDING"
   ]
  },
  {
   "cell_type": "code",
   "execution_count": 9,
   "metadata": {},
   "outputs": [
    {
     "name": "stdout",
     "output_type": "stream",
     "text": [
      "(235, b'2.7.0 Accepted')\n",
      "Mail sent to Axa Gemini Lakra\n",
      "(235, b'2.7.0 Accepted')\n",
      "Mail sent to Naisargika Subudhi\n",
      "(235, b'2.7.0 Accepted')\n",
      "Mail sent to Shruti Swarupa Dhar\n",
      "(235, b'2.7.0 Accepted')\n",
      "Mail sent to Rituparna Senapati\n",
      "(235, b'2.7.0 Accepted')\n",
      "Mail sent to Ashutosh Panda\n",
      "(235, b'2.7.0 Accepted')\n",
      "Mail sent to Asmita Ghosh\n",
      "(235, b'2.7.0 Accepted')\n",
      "Mail sent to Deepak\n",
      "(235, b'2.7.0 Accepted')\n",
      "Mail sent to Akanshu Aich\n",
      "(235, b'2.7.0 Accepted')\n",
      "Mail sent to Swapneel Das\n",
      "(235, b'2.7.0 Accepted')\n",
      "Mail sent to Sushobhan Tripathy\n",
      "(235, b'2.7.0 Accepted')\n",
      "Mail sent to Subhajit Chatterjee\n",
      "(235, b'2.7.0 Accepted')\n",
      "Mail sent to Swastik Pradhan\n",
      "(235, b'2.7.0 Accepted')\n",
      "Mail sent to Ritish R Ratan\n",
      "(235, b'2.7.0 Accepted')\n",
      "Mail sent to Ashish upadhyay\n",
      "(235, b'2.7.0 Accepted')\n",
      "Mail sent to Pratyush Dehury\n",
      "(235, b'2.7.0 Accepted')\n",
      "Mail sent to Durbadala Padhan\n",
      "(235, b'2.7.0 Accepted')\n",
      "Mail sent to Jayadip Sahoo\n",
      "(235, b'2.7.0 Accepted')\n",
      "Mail sent to Abhikalp Srivastava\n",
      "(235, b'2.7.0 Accepted')\n",
      "Mail sent to Eugene Cosmas Tirkey\n",
      "(235, b'2.7.0 Accepted')\n",
      "Mail sent to K. Raja Nayak\n",
      "(235, b'2.7.0 Accepted')\n",
      "Mail sent to Kaniskaa Behera\n",
      "(235, b'2.7.0 Accepted')\n",
      "Mail sent to Shivakshi Singh\n",
      "(235, b'2.7.0 Accepted')\n",
      "Mail sent to Aditi Pandey\n",
      "(235, b'2.7.0 Accepted')\n",
      "Mail sent to Debasmita Malik\n",
      "(235, b'2.7.0 Accepted')\n",
      "Mail sent to Madhav Khandelwal\n",
      "(235, b'2.7.0 Accepted')\n",
      "Mail sent to Nitin Chandra Sahu\n",
      "(235, b'2.7.0 Accepted')\n"
     ]
    },
    {
     "ename": "SMTPRecipientsRefused",
     "evalue": "{'b521031@iiit_bh.ac.in': (553, b'5.1.3 The recipient address <b521031@iiit_bh.ac.in> is not a valid RFC-5321\\n5.1.3 address. Learn more at\\n5.1.3  https://support.google.com/mail/answer/6596 a7-20020aa79707000000b004fb17ad3aefsm19032335pfg.108 - gsmtp')}",
     "output_type": "error",
     "traceback": [
      "\u001b[1;31m---------------------------------------------------------------------------\u001b[0m",
      "\u001b[1;31mSMTPRecipientsRefused\u001b[0m                     Traceback (most recent call last)",
      "\u001b[1;32mC:\\Users\\HARSHI~1\\AppData\\Local\\Temp/ipykernel_6316/3225618458.py\u001b[0m in \u001b[0;36m<module>\u001b[1;34m\u001b[0m\n\u001b[0;32m      1\u001b[0m \u001b[1;32mfor\u001b[0m \u001b[0mi\u001b[0m \u001b[1;32min\u001b[0m \u001b[0mrange\u001b[0m\u001b[1;33m(\u001b[0m\u001b[1;36m8\u001b[0m\u001b[1;33m,\u001b[0m \u001b[0mlen\u001b[0m\u001b[1;33m(\u001b[0m\u001b[0ma\u001b[0m\u001b[1;33m)\u001b[0m\u001b[1;33m)\u001b[0m\u001b[1;33m:\u001b[0m\u001b[1;33m\u001b[0m\u001b[1;33m\u001b[0m\u001b[0m\n\u001b[1;32m----> 2\u001b[1;33m     \u001b[0massignment\u001b[0m\u001b[1;33m(\u001b[0m\u001b[0ma\u001b[0m\u001b[1;33m.\u001b[0m\u001b[0miloc\u001b[0m\u001b[1;33m[\u001b[0m\u001b[0mi\u001b[0m\u001b[1;33m]\u001b[0m\u001b[1;33m[\u001b[0m\u001b[1;36m1\u001b[0m\u001b[1;33m]\u001b[0m\u001b[1;33m,\u001b[0m\u001b[0ma\u001b[0m\u001b[1;33m.\u001b[0m\u001b[0miloc\u001b[0m\u001b[1;33m[\u001b[0m\u001b[0mi\u001b[0m\u001b[1;33m]\u001b[0m\u001b[1;33m[\u001b[0m\u001b[1;36m0\u001b[0m\u001b[1;33m]\u001b[0m\u001b[1;33m,\u001b[0m \u001b[0ma\u001b[0m\u001b[1;33m.\u001b[0m\u001b[0miloc\u001b[0m\u001b[1;33m[\u001b[0m\u001b[0mi\u001b[0m\u001b[1;33m]\u001b[0m\u001b[1;33m[\u001b[0m\u001b[1;36m2\u001b[0m\u001b[1;33m]\u001b[0m\u001b[1;33m,\u001b[0m \u001b[0ma\u001b[0m\u001b[1;33m.\u001b[0m\u001b[0miloc\u001b[0m\u001b[1;33m[\u001b[0m\u001b[0mi\u001b[0m\u001b[1;33m]\u001b[0m\u001b[1;33m[\u001b[0m\u001b[1;36m3\u001b[0m\u001b[1;33m]\u001b[0m\u001b[1;33m,\u001b[0m \u001b[0mi\u001b[0m\u001b[1;33m+\u001b[0m\u001b[1;36m2\u001b[0m\u001b[1;33m)\u001b[0m \u001b[1;31m#Just check it is in format (receiver_email,reciever_name,number of certificate)\u001b[0m\u001b[1;33m\u001b[0m\u001b[1;33m\u001b[0m\u001b[0m\n\u001b[0m\u001b[0;32m      3\u001b[0m     \u001b[0mprint\u001b[0m\u001b[1;33m(\u001b[0m\u001b[1;34m'Mail sent to'\u001b[0m\u001b[1;33m,\u001b[0m\u001b[0ma\u001b[0m\u001b[1;33m.\u001b[0m\u001b[0miloc\u001b[0m\u001b[1;33m[\u001b[0m\u001b[0mi\u001b[0m\u001b[1;33m]\u001b[0m\u001b[1;33m[\u001b[0m\u001b[1;36m0\u001b[0m\u001b[1;33m]\u001b[0m\u001b[1;33m)\u001b[0m\u001b[1;33m\u001b[0m\u001b[1;33m\u001b[0m\u001b[0m\n",
      "\u001b[1;32mC:\\Users\\HARSHI~1\\AppData\\Local\\Temp/ipykernel_6316/3119748257.py\u001b[0m in \u001b[0;36massignment\u001b[1;34m(rm, name, branch, year, no)\u001b[0m\n\u001b[0;32m     65\u001b[0m     \u001b[0mserver\u001b[0m\u001b[1;33m.\u001b[0m\u001b[0mehlo\u001b[0m\u001b[1;33m(\u001b[0m\u001b[1;33m)\u001b[0m\u001b[1;33m\u001b[0m\u001b[1;33m\u001b[0m\u001b[0m\n\u001b[0;32m     66\u001b[0m     \u001b[0mprint\u001b[0m\u001b[1;33m(\u001b[0m\u001b[0mserver\u001b[0m\u001b[1;33m.\u001b[0m\u001b[0mlogin\u001b[0m\u001b[1;33m(\u001b[0m\u001b[0msender_email\u001b[0m\u001b[1;33m,\u001b[0m \u001b[0mpassword\u001b[0m\u001b[1;33m)\u001b[0m\u001b[1;33m)\u001b[0m\u001b[1;33m\u001b[0m\u001b[1;33m\u001b[0m\u001b[0m\n\u001b[1;32m---> 67\u001b[1;33m     \u001b[1;32mreturn\u001b[0m\u001b[1;33m(\u001b[0m\u001b[0mserver\u001b[0m\u001b[1;33m.\u001b[0m\u001b[0msendmail\u001b[0m\u001b[1;33m(\u001b[0m\u001b[0msender_email\u001b[0m\u001b[1;33m,\u001b[0m\u001b[0mreceiver_email\u001b[0m\u001b[1;33m,\u001b[0m\u001b[0mmessage\u001b[0m\u001b[1;33m.\u001b[0m\u001b[0mas_string\u001b[0m\u001b[1;33m(\u001b[0m\u001b[1;33m)\u001b[0m\u001b[1;33m)\u001b[0m\u001b[1;33m)\u001b[0m\u001b[1;33m\u001b[0m\u001b[1;33m\u001b[0m\u001b[0m\n\u001b[0m",
      "\u001b[1;32mC:\\ProgramData\\Anaconda3\\lib\\smtplib.py\u001b[0m in \u001b[0;36msendmail\u001b[1;34m(self, from_addr, to_addrs, msg, mail_options, rcpt_options)\u001b[0m\n\u001b[0;32m    892\u001b[0m             \u001b[1;31m# the server refused all our recipients\u001b[0m\u001b[1;33m\u001b[0m\u001b[1;33m\u001b[0m\u001b[1;33m\u001b[0m\u001b[0m\n\u001b[0;32m    893\u001b[0m             \u001b[0mself\u001b[0m\u001b[1;33m.\u001b[0m\u001b[0m_rset\u001b[0m\u001b[1;33m(\u001b[0m\u001b[1;33m)\u001b[0m\u001b[1;33m\u001b[0m\u001b[1;33m\u001b[0m\u001b[0m\n\u001b[1;32m--> 894\u001b[1;33m             \u001b[1;32mraise\u001b[0m \u001b[0mSMTPRecipientsRefused\u001b[0m\u001b[1;33m(\u001b[0m\u001b[0msenderrs\u001b[0m\u001b[1;33m)\u001b[0m\u001b[1;33m\u001b[0m\u001b[1;33m\u001b[0m\u001b[0m\n\u001b[0m\u001b[0;32m    895\u001b[0m         \u001b[1;33m(\u001b[0m\u001b[0mcode\u001b[0m\u001b[1;33m,\u001b[0m \u001b[0mresp\u001b[0m\u001b[1;33m)\u001b[0m \u001b[1;33m=\u001b[0m \u001b[0mself\u001b[0m\u001b[1;33m.\u001b[0m\u001b[0mdata\u001b[0m\u001b[1;33m(\u001b[0m\u001b[0mmsg\u001b[0m\u001b[1;33m)\u001b[0m\u001b[1;33m\u001b[0m\u001b[1;33m\u001b[0m\u001b[0m\n\u001b[0;32m    896\u001b[0m         \u001b[1;32mif\u001b[0m \u001b[0mcode\u001b[0m \u001b[1;33m!=\u001b[0m \u001b[1;36m250\u001b[0m\u001b[1;33m:\u001b[0m\u001b[1;33m\u001b[0m\u001b[1;33m\u001b[0m\u001b[0m\n",
      "\u001b[1;31mSMTPRecipientsRefused\u001b[0m: {'b521031@iiit_bh.ac.in': (553, b'5.1.3 The recipient address <b521031@iiit_bh.ac.in> is not a valid RFC-5321\\n5.1.3 address. Learn more at\\n5.1.3  https://support.google.com/mail/answer/6596 a7-20020aa79707000000b004fb17ad3aefsm19032335pfg.108 - gsmtp')}"
     ]
    }
   ],
   "source": [
    "for i in range(8, len(a)):\n",
    "    assignment(a.iloc[i][1],a.iloc[i][0], a.iloc[i][2], a.iloc[i][3], i+2) #Just check it is in format (receiver_email,reciever_name,number of certificate)\n",
    "    print('Mail sent to',a.iloc[i][0])"
   ]
  },
  {
   "cell_type": "code",
   "execution_count": null,
   "metadata": {},
   "outputs": [],
   "source": []
  }
 ],
 "metadata": {
  "kernelspec": {
   "display_name": "Python 3 (ipykernel)",
   "language": "python",
   "name": "python3"
  },
  "language_info": {
   "codemirror_mode": {
    "name": "ipython",
    "version": 3
   },
   "file_extension": ".py",
   "mimetype": "text/x-python",
   "name": "python",
   "nbconvert_exporter": "python",
   "pygments_lexer": "ipython3",
   "version": "3.8.11"
  }
 },
 "nbformat": 4,
 "nbformat_minor": 4
}
