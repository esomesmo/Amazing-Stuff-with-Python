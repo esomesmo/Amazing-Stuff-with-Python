{
 "cells": [
  {
   "cell_type": "markdown",
   "metadata": {},
   "source": [
    "## In this Automation, we can change the names of the files by just one click and inserting the location of the folder containing files."
   ]
  },
  {
   "cell_type": "markdown",
   "metadata": {},
   "source": [
    "Import Modules"
   ]
  },
  {
   "cell_type": "code",
   "execution_count": 1,
   "metadata": {},
   "outputs": [],
   "source": [
    "#Modules\n",
    "import pandas as pd\n",
    "import os"
   ]
  },
  {
   "cell_type": "markdown",
   "metadata": {},
   "source": [
    "Write locations"
   ]
  },
  {
   "cell_type": "code",
   "execution_count": 6,
   "metadata": {},
   "outputs": [],
   "source": [
    "folder_loc = r\"C:\\Users\\Harshit Singh\\Videos\\Spaceonova Internship\\Space Robotics\\Certificates\\CITK\" # location of CSV file \n",
    "name_heading = \"Name\" # name wale ka heading from the excel sheet\n",
    "csv_loc = r\"C:\\Users\\Harshit Singh\\Downloads\\Feedback Form - CITR (Responses) - Form responses 1.csv\" # location of folder"
   ]
  },
  {
   "cell_type": "code",
   "execution_count": null,
   "metadata": {},
   "outputs": [],
   "source": [
    "df = pd.read_csv(csv_loc)\n",
    "df"
   ]
  },
  {
   "cell_type": "code",
   "execution_count": null,
   "metadata": {},
   "outputs": [],
   "source": [
    "df.drop(['Email'], axis = 1)"
   ]
  },
  {
   "cell_type": "markdown",
   "metadata": {},
   "source": [
    "Just Runnnnn"
   ]
  },
  {
   "cell_type": "code",
   "execution_count": 7,
   "metadata": {
    "scrolled": false
   },
   "outputs": [
    {
     "name": "stdout",
     "output_type": "stream",
     "text": [
      "workshop participation certificate (1)001000.pdf --> Himjyoti Thakuria.pdf\n",
      "workshop participation certificate (1)002000.pdf --> Priyanshu Nailwal.pdf\n",
      "workshop participation certificate (1)003000.pdf --> Chakresh Joshi.pdf\n",
      "workshop participation certificate (1)004000.pdf --> Sanjib Kumar Malakar.pdf\n",
      "workshop participation certificate (1)005000.pdf --> Jashmita Nath.pdf\n",
      "workshop participation certificate (1)006000.pdf --> Pritam Ray.pdf\n",
      "workshop participation certificate (1)007000.pdf --> Anfunggwra Brahma.pdf\n",
      "workshop participation certificate (1)008000.pdf --> Udit Nath.pdf\n",
      "workshop participation certificate (1)009000.pdf --> Nabajyoti Gayary.pdf\n",
      "workshop participation certificate (1)010000.pdf --> Prashant Chettri.pdf\n",
      "workshop participation certificate (1)011000.pdf --> Kheraj Raj Basumatary.pdf\n",
      "workshop participation certificate (1)012000.pdf --> Tamal Barman.pdf\n",
      "workshop participation certificate (1)013000.pdf --> Bhaskar Jyoti Medhi.pdf\n"
     ]
    }
   ],
   "source": [
    "df=pd.read_csv(csv_loc)\n",
    "for count, filename in enumerate(os.listdir(folder_loc)):\n",
    "        ori=folder_loc\n",
    "        s=filename\n",
    "        if s==\"cert.pdf\":\n",
    "            continue\n",
    "#         print(s)\n",
    "#         n=int(s.split(' ')[-1].split('.')[0])\n",
    "        n=int(s[-10:-7])\n",
    "#         print(n)\n",
    "#         break\n",
    "        try:\n",
    "            new=(df.iloc[int(n)-1][name_heading].strip()).title()+'.pdf'\n",
    "            print(s,'-->',new)\n",
    "#             break\n",
    "            os.rename(ori+'\\\\'+s,ori+'\\\\'+new)\n",
    "        except Exception as e:\n",
    "            print(e)\n",
    "#             print(\"FAILED^^^\")\n",
    "                \n",
    "  "
   ]
  },
  {
   "cell_type": "markdown",
   "metadata": {},
   "source": [
    "##### Just for testing"
   ]
  },
  {
   "cell_type": "code",
   "execution_count": null,
   "metadata": {},
   "outputs": [],
   "source": [
    "s=\"workshop participation certificate_Data Set 1.pdf\"\n",
    "s.split(' ')[-1].split('.')[0]"
   ]
  },
  {
   "cell_type": "code",
   "execution_count": null,
   "metadata": {},
   "outputs": [],
   "source": [
    "\"workshop participation certificate (1)001000.pdf\"[-10:-7]"
   ]
  },
  {
   "cell_type": "code",
   "execution_count": null,
   "metadata": {},
   "outputs": [],
   "source": []
  }
 ],
 "metadata": {
  "kernelspec": {
   "display_name": "Python 3 (ipykernel)",
   "language": "python",
   "name": "python3"
  },
  "language_info": {
   "codemirror_mode": {
    "name": "ipython",
    "version": 3
   },
   "file_extension": ".py",
   "mimetype": "text/x-python",
   "name": "python",
   "nbconvert_exporter": "python",
   "pygments_lexer": "ipython3",
   "version": "3.8.11"
  }
 },
 "nbformat": 4,
 "nbformat_minor": 4
}
